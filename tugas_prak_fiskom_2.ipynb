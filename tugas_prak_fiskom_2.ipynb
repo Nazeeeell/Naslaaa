{
  "nbformat": 4,
  "nbformat_minor": 0,
  "metadata": {
    "colab": {
      "provenance": [],
      "authorship_tag": "ABX9TyOdQvswN3nsaRclX966lc8W",
      "include_colab_link": true
    },
    "kernelspec": {
      "name": "python3",
      "display_name": "Python 3"
    },
    "language_info": {
      "name": "python"
    }
  },
  "cells": [
    {
      "cell_type": "markdown",
      "metadata": {
        "id": "view-in-github",
        "colab_type": "text"
      },
      "source": [
        "<a href=\"https://colab.research.google.com/github/Nazeeeell/Naslaaa/blob/main/tugas_prak_fiskom_2.ipynb\" target=\"_parent\"><img src=\"https://colab.research.google.com/assets/colab-badge.svg\" alt=\"Open In Colab\"/></a>"
      ]
    },
    {
      "cell_type": "code",
      "execution_count": 1,
      "metadata": {
        "colab": {
          "base_uri": "https://localhost:8080/"
        },
        "id": "A0web1zvwEkT",
        "outputId": "360841c3-7cfc-40cb-c237-ae858acc4310"
      },
      "outputs": [
        {
          "output_type": "stream",
          "name": "stdout",
          "text": [
            "Masukkan massa benda (kg): 1\n",
            "Gaya berat benda tersebut adalah 9.81 N (Newton).\n"
          ]
        }
      ],
      "source": [
        "# Program menghitung gaya berat\n",
        "\n",
        "# Fungsi untuk menghitung gaya berat\n",
        "def hitung_gaya_berat(massa, gravitasi=9.81):\n",
        "    gaya_berat = massa * gravitasi\n",
        "    return gaya_berat\n",
        "\n",
        "# Input massa benda dari pengguna\n",
        "massa_benda = float(input(\"Masukkan massa benda (kg): \"))\n",
        "\n",
        "# Hitung gaya berat\n",
        "hasil_gaya_berat = hitung_gaya_berat(massa_benda)\n",
        "\n",
        "# Tampilkan hasil\n",
        "print(f\"Gaya berat benda tersebut adalah {hasil_gaya_berat} N (Newton).\")\n"
      ]
    },
    {
      "cell_type": "code",
      "source": [
        "# Fungsi untuk menghitung gaya gesek kinetik\n",
        "def hitung_gaya_gesek_kinetik(massa, percepatan, koefisien_gesek):\n",
        "    gaya_normal = massa * 9.81  # 9.81 m/s^2 adalah percepatan gravitasi bumi\n",
        "    gaya_gesek = koefisien_gesek * gaya_normal\n",
        "    return gaya_gesek\n",
        "\n",
        "# Input data dari pengguna\n",
        "massa_benda = float(input(\"Masukkan massa benda (kg): \"))\n",
        "percepatan = float(input(\"Masukkan percepatan benda (m/s^2): \"))\n",
        "koefisien_gesek = float(input(\"Masukkan koefisien gesek kinetik: \"))\n",
        "\n",
        "# Hitung gaya gesek kinetik\n",
        "gaya_gesek_kinetik = hitung_gaya_gesek_kinetik(massa_benda, percepatan, koefisien_gesek)\n",
        "\n",
        "# Tampilkan hasil\n",
        "print(f\"Gaya gesek kinetik yang bekerja pada benda adalah {gaya_gesek_kinetik} N.\")\n"
      ],
      "metadata": {
        "id": "Xq4UeBL8xUk5"
      },
      "execution_count": null,
      "outputs": []
    }
  ]
}